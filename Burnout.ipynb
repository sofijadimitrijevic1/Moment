{
  "nbformat": 4,
  "nbformat_minor": 0,
  "metadata": {
    "colab": {
      "provenance": []
    },
    "kernelspec": {
      "name": "python3",
      "display_name": "Python 3"
    },
    "language_info": {
      "name": "python"
    }
  },
  "cells": [
    {
      "cell_type": "code",
      "execution_count": null,
      "metadata": {
        "id": "6FpGt-Wq37de",
        "colab": {
          "base_uri": "https://localhost:8080/"
        },
        "outputId": "6aedd400-6ff9-41d0-93c8-e04e98c1a680"
      },
      "outputs": [
        {
          "output_type": "stream",
          "name": "stdout",
          "text": [
            "     age  sex  part  job  stud_h  health  psyt\n",
            "0     18    1     1    0      56       3     0\n",
            "1     26    1     1    0      20       4     0\n",
            "2     21    2     0    0      36       3     0\n",
            "3     21    2     0    1      51       5     0\n",
            "4     21    1     1    0      22       4     0\n",
            "..   ...  ...   ...  ...     ...     ...   ...\n",
            "881   21    1     1    0      45       3     0\n",
            "882   20    2     0    0      13       3     0\n",
            "883   19    1     0    0      50       5     0\n",
            "884   24    2     0    0      20       2     1\n",
            "885   22    1     0    1      20       5     0\n",
            "\n",
            "[886 rows x 7 columns]\n"
          ]
        }
      ],
      "source": [
        "import numpy as np\n",
        "import matplotlib.pyplot as plt\n",
        "import pandas as pd\n",
        "\n",
        "targeted_columns = ['age', 'sex', 'part', 'job', 'stud_h', 'health', 'psyt', 'mbi_ex', 'mbi_cy', 'mbi_ea']\n",
        "dataset = pd.read_csv('sample_data/burnout.csv', usecols=targeted_columns)\n",
        "y_mbi_ex = dataset.pop(\"mbi_ex\")\n",
        "y_mbi_cy = dataset.pop(\"mbi_cy\")\n",
        "y_mbi_ea = dataset.pop(\"mbi_ea\")\n",
        "\n",
        "print(dataset)\n"
      ]
    },
    {
      "cell_type": "markdown",
      "source": [
        "**MBI Emotional Exhaustion**"
      ],
      "metadata": {
        "id": "GPqMitX9F9K5"
      }
    },
    {
      "cell_type": "code",
      "source": [
        "from sklearn.model_selection import train_test_split\n",
        "X_train, X_test, y_mbi_ex_train, y_mbi_ex_test = train_test_split(dataset, y_mbi_ex, test_size = 0.2, random_state = 0)\n",
        "\n",
        "#Training model\n",
        "from sklearn.linear_model import LinearRegression\n",
        "regressor_ex = LinearRegression()\n",
        "regressor_ex.fit(X_train, y_mbi_ex_train)\n",
        "\n",
        "y_test_pred_mbi_ex = regressor_ex.predict(X_test)\n",
        "y_train_pred_mbi_ex = regressor_ex.predict(X_train)"
      ],
      "metadata": {
        "id": "aWsQ3tSh-8rU"
      },
      "execution_count": null,
      "outputs": []
    },
    {
      "cell_type": "code",
      "source": [
        "from sklearn.metrics import mean_squared_error, r2_score\n",
        "\n",
        "mse = mean_squared_error(y_mbi_ex_train, y_train_pred_mbi_ex)\n",
        "r2 = r2_score(y_mbi_ex_train, y_train_pred_mbi_ex)\n",
        "\n",
        "print(\"Mean Squared Error:\", mse)\n",
        "print(\"R-squared:\", r2)"
      ],
      "metadata": {
        "colab": {
          "base_uri": "https://localhost:8080/"
        },
        "id": "1ehO5wcpBn6a",
        "outputId": "40b55dfe-5656-4c0c-a0a9-8536a81c02ee"
      },
      "execution_count": null,
      "outputs": [
        {
          "output_type": "stream",
          "name": "stdout",
          "text": [
            "Mean Squared Error: 23.680152926135165\n",
            "R-squared: 0.16647245724479132\n"
          ]
        }
      ]
    },
    {
      "cell_type": "markdown",
      "source": [
        "**MBI Cynacism**"
      ],
      "metadata": {
        "id": "-1azh6M6znrM"
      }
    },
    {
      "cell_type": "code",
      "source": [
        "X_train, X_test, y_mbi_cy_train, y_mbi_cy_test = train_test_split(dataset, y_mbi_cy, test_size = 0.2, random_state = 0)\n",
        "\n",
        "#Training model\n",
        "regressor_cy = LinearRegression()\n",
        "regressor_cy.fit(X_train, y_mbi_cy_train) #fit is a method of linear regression class that will train model on training set\n",
        "\n",
        "y_test_pred_mbi_cy = regressor_cy.predict(X_test)\n",
        "y_train_pred_mbi_cy = regressor_cy.predict(X_train)"
      ],
      "metadata": {
        "id": "jRnZ1yRqyzT9"
      },
      "execution_count": null,
      "outputs": []
    },
    {
      "cell_type": "code",
      "source": [
        "mse = mean_squared_error(y_mbi_cy_train, y_train_pred_mbi_cy)\n",
        "r2 = r2_score(y_mbi_cy_train, y_train_pred_mbi_cy)\n",
        "\n",
        "print(\"Mean Squared Error:\", mse)\n",
        "print(\"R-squared:\", r2)"
      ],
      "metadata": {
        "colab": {
          "base_uri": "https://localhost:8080/"
        },
        "id": "vYJBJ5Olzf23",
        "outputId": "0f07815b-90a5-4a17-fd03-5951fea50b99"
      },
      "execution_count": null,
      "outputs": [
        {
          "output_type": "stream",
          "name": "stdout",
          "text": [
            "Mean Squared Error: 19.593701633207246\n",
            "R-squared: 0.049988193987551166\n"
          ]
        }
      ]
    },
    {
      "cell_type": "markdown",
      "source": [
        "**Academic Efficacy**"
      ],
      "metadata": {
        "id": "wk7gUXbv0GyQ"
      }
    },
    {
      "cell_type": "code",
      "source": [
        "X_train, X_test, y_mbi_ea_train, y_mbi_ea_test = train_test_split(dataset, y_mbi_ea, test_size = 0.2, random_state = 0)\n",
        "\n",
        "#Training model\n",
        "from sklearn.linear_model import LinearRegression\n",
        "regressor_ea = LinearRegression()\n",
        "regressor_ea.fit(X_train, y_mbi_ea_train) #fit is a method of linear regression class that will train model on training set\n",
        "\n",
        "y_test_pred_mbi_ea = regressor_ea.predict(X_test)\n",
        "y_train_pred_mbi_ea = regressor_ea.predict(X_train)"
      ],
      "metadata": {
        "id": "VHfHZgYJz2m-"
      },
      "execution_count": null,
      "outputs": []
    },
    {
      "cell_type": "code",
      "source": [
        "mse = mean_squared_error(y_mbi_ea_train, y_train_pred_mbi_ea)\n",
        "r2 = r2_score(y_mbi_ea_train, y_train_pred_mbi_ea)\n",
        "\n",
        "print(\"Mean Squared Error:\", mse)\n",
        "print(\"R-squared:\", r2)"
      ],
      "metadata": {
        "colab": {
          "base_uri": "https://localhost:8080/"
        },
        "id": "yQEAL09A0Bl6",
        "outputId": "563cb6e7-290b-4d4f-93a2-2e150913826b"
      },
      "execution_count": null,
      "outputs": [
        {
          "output_type": "stream",
          "name": "stdout",
          "text": [
            "Mean Squared Error: 19.647518609699404\n",
            "R-squared: 0.0927292391764083\n"
          ]
        }
      ]
    },
    {
      "cell_type": "markdown",
      "source": [
        "***Demo***"
      ],
      "metadata": {
        "id": "Bh5ZO4150QM3"
      }
    },
    {
      "cell_type": "code",
      "source": [
        "overachiever = {\n",
        "    'age': 20,\n",
        "    'sex': 1,\n",
        "    'part': 1,\n",
        "    'job': 1,\n",
        "    'stud_h': 60,\n",
        "    'health': 1,\n",
        "    'psyt': 1\n",
        "}\n",
        "\n",
        "\n",
        "underachiever = {\n",
        "    'age': 20,\n",
        "    'sex': 1,\n",
        "    'part': 0,\n",
        "    'job': 0,\n",
        "    'stud_h': 5,\n",
        "    'health': 5,\n",
        "    'psyt': 0\n",
        "}\n",
        "\n",
        "\n",
        "overachiever_df = pd.DataFrame([overachiever])\n",
        "underachiever_df = pd.DataFrame([underachiever])\n",
        "\n",
        "over_ex = regressor_ex.predict(overachiever_df)\n",
        "over_cy = regressor_cy.predict(overachiever_df)\n",
        "over_ea = regressor_ea.predict(overachiever_df)\n",
        "\n",
        "\n",
        "under_ex = regressor_ex.predict(underachiever_df)\n",
        "under_cy = regressor_cy.predict(underachiever_df)\n",
        "under_ea = regressor_ea.predict(underachiever_df)\n",
        "\n",
        "print(\"Overachiever Emotional Exhaustion: \", over_ex[0])\n",
        "print(\"Overachiever Cynicism: \", over_cy[0])\n",
        "print(\"Overachiever Educational Efficacy: \", over_ea[0])\n",
        "\n",
        "print(\"\")\n",
        "\n",
        "print(\"Underachiever Emotional Exhaustion: \", under_ex[0])\n",
        "print(\"Underachiever Cynicism: \", under_cy[0])\n",
        "print(\"Underachiever Professional Efficacy: \", under_ea[0])\n",
        "\n"
      ],
      "metadata": {
        "colab": {
          "base_uri": "https://localhost:8080/"
        },
        "id": "j7p79RsW0Onq",
        "outputId": "81133a3a-cf89-476e-968d-6c3f41ac9224"
      },
      "execution_count": null,
      "outputs": [
        {
          "output_type": "stream",
          "name": "stdout",
          "text": [
            "Overachiever Emotional Exhaustion:  23.38639629258582\n",
            "Overachiever Cynicism:  12.012801090160945\n",
            "Overachiever Educational Efficacy:  21.67105564237682\n",
            "\n",
            "Underachiever Emotional Exhaustion:  13.914894447137424\n",
            "Underachiever Cynicism:  10.175570929799733\n",
            "Underachiever Professional Efficacy:  24.132670814341846\n"
          ]
        }
      ]
    }
  ]
}